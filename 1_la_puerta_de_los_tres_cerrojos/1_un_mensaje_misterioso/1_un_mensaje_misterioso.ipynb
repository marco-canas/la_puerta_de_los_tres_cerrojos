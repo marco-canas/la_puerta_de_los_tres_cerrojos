{
 "cells": [
  {
   "cell_type": "code",
   "execution_count": null,
   "metadata": {},
   "outputs": [],
   "source": []
  },
  {
   "cell_type": "code",
   "execution_count": null,
   "metadata": {},
   "outputs": [],
   "source": []
  },
  {
   "cell_type": "markdown",
   "metadata": {},
   "source": [
    "# 1 Un mensaje misterioso"
   ]
  },
  {
   "cell_type": "markdown",
   "metadata": {},
   "source": [
    "Niko se quedó paralizado en la cama, perplejo por lo que acababa en el techo de su habitación:  \n",
    "\n",
    "**\"Si quieres que sucedan cosas diferentes, deja de hacer siempre lo mismo.\"**"
   ]
  },
  {
   "cell_type": "markdown",
   "metadata": {},
   "source": []
  }
 ],
 "metadata": {
  "language_info": {
   "name": "python"
  },
  "orig_nbformat": 4
 },
 "nbformat": 4,
 "nbformat_minor": 2
}
